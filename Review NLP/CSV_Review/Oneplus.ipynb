{
 "cells": [
  {
   "cell_type": "code",
   "execution_count": 7,
   "metadata": {},
   "outputs": [
    {
     "name": "stdout",
     "output_type": "stream",
     "text": [
      "2781 789\n"
     ]
    }
   ],
   "source": [
    "#ONEPLUS PHONE REVIEW\n",
    "import pandas as pd\n",
    "count = 0\n",
    "df = pd.read_csv(\"ReviewOneplus.csv\")\n",
    "for i in range(0, 3570):\n",
    "    if(df[\"Label\"].iloc[i]==\"Positive\"):\n",
    "        count+=1\n",
    "print(count,3570-count)\n",
    "\n",
    "#Positive 2781\n",
    "#Negative 789"
   ]
  },
  {
   "cell_type": "code",
   "execution_count": 8,
   "metadata": {},
   "outputs": [
    {
     "name": "stdout",
     "output_type": "stream",
     "text": [
      "3297 1031\n"
     ]
    }
   ],
   "source": [
    "#OPPO PHONE REVIEW\n",
    "import pandas as pd\n",
    "count = 0\n",
    "df = pd.read_csv(\"ReviewOppo.csv\")\n",
    "for i in range(0, 4328):\n",
    "    if(df[\"Label\"].iloc[i]==\"Positive\"):\n",
    "        count+=1\n",
    "print(count,4328-count)\n",
    "\n",
    "#Positive 3297 \n",
    "#Negative 1031"
   ]
  },
  {
   "cell_type": "code",
   "execution_count": 11,
   "metadata": {},
   "outputs": [
    {
     "name": "stdout",
     "output_type": "stream",
     "text": [
      "3134 1325\n"
     ]
    }
   ],
   "source": [
    "#Redme9 PHONE REVIEW\n",
    "import pandas as pd\n",
    "count = 0\n",
    "df = pd.read_csv(\"ReviewRedme9.csv\")\n",
    "for i in range(0, 4459):\n",
    "    if(df[\"Label\"].iloc[i]==\"Positive\"):\n",
    "        count+=1\n",
    "print(count,4459-count)\n",
    "\n",
    "#Positive 3134  \n",
    "#Negative 1325"
   ]
  },
  {
   "cell_type": "code",
   "execution_count": 17,
   "metadata": {},
   "outputs": [
    {
     "name": "stdout",
     "output_type": "stream",
     "text": [
      "2444 1322\n"
     ]
    }
   ],
   "source": [
    "#Redme10 PHONE REVIEW\n",
    "import pandas as pd\n",
    "count = 0\n",
    "df = pd.read_csv(\"ReviewRedMe10.csv\")\n",
    "for i in range(0, 3766):\n",
    "    if(df[\"Label\"].iloc[i]==\"Positive\"):\n",
    "        count+=1\n",
    "print(count,3766-count)\n",
    "\n",
    "#Positive 2444   \n",
    "#Negative 1322\n"
   ]
  },
  {
   "cell_type": "code",
   "execution_count": 18,
   "metadata": {},
   "outputs": [
    {
     "name": "stdout",
     "output_type": "stream",
     "text": [
      "1857 865\n"
     ]
    }
   ],
   "source": [
    "#Redme11 PHONE REVIEW\n",
    "import pandas as pd\n",
    "count = 0\n",
    "df = pd.read_csv(\"Redmi11Review.csv\")\n",
    "for i in range(0, 2722):\n",
    "    if(df[\"Label\"].iloc[i]==\"Positive\"):\n",
    "        count+=1\n",
    "print(count,2722-count)\n",
    "\n",
    "#Positive 1857    \n",
    "#Negative 865\n"
   ]
  },
  {
   "cell_type": "code",
   "execution_count": 21,
   "metadata": {},
   "outputs": [
    {
     "name": "stdout",
     "output_type": "stream",
     "text": [
      "851 487\n"
     ]
    }
   ],
   "source": [
    "#Samsung PHONE REVIEW\n",
    "import pandas as pd\n",
    "count = 0\n",
    "df = pd.read_csv(\"ReviewSamsung.csv\")\n",
    "for i in range(0, 1338):\n",
    "    if(df[\"Label\"].iloc[i]==\"Positive\"):\n",
    "        count+=1\n",
    "print(count,1338-count)\n",
    "\n",
    "#Positive 851     \n",
    "#Negative 487\n"
   ]
  },
  {
   "cell_type": "code",
   "execution_count": 22,
   "metadata": {},
   "outputs": [
    {
     "name": "stdout",
     "output_type": "stream",
     "text": [
      "967 450\n"
     ]
    }
   ],
   "source": [
    "#Vivo PHONE REVIEW\n",
    "import pandas as pd\n",
    "count = 0\n",
    "df = pd.read_csv(\"ReviewVivo.csv\")\n",
    "for i in range(0, 1417):\n",
    "    if(df[\"Label\"].iloc[i]==\"Positive\"):\n",
    "        count+=1\n",
    "print(count,1417-count)\n",
    "\n",
    "#Positive 967      \n",
    "#Negative 450\n"
   ]
  },
  {
   "cell_type": "code",
   "execution_count": 23,
   "metadata": {},
   "outputs": [
    {
     "name": "stdout",
     "output_type": "stream",
     "text": [
      "1649 515\n"
     ]
    }
   ],
   "source": [
    "#Vivo PHONE REVIEW\n",
    "import pandas as pd\n",
    "count = 0\n",
    "df = pd.read_csv(\"ReviewRealme.csv\")\n",
    "for i in range(0, 2164):\n",
    "    if(df[\"Label\"].iloc[i]==\"Positive\"):\n",
    "        count+=1\n",
    "print(count,2164-count)\n",
    "\n",
    "#Positive 1649       \n",
    "#Negative 515\n"
   ]
  }
 ],
 "metadata": {
  "kernelspec": {
   "display_name": "Python 3",
   "language": "python",
   "name": "python3"
  },
  "language_info": {
   "codemirror_mode": {
    "name": "ipython",
    "version": 3
   },
   "file_extension": ".py",
   "mimetype": "text/x-python",
   "name": "python",
   "nbconvert_exporter": "python",
   "pygments_lexer": "ipython3",
   "version": "3.11.3"
  },
  "orig_nbformat": 4
 },
 "nbformat": 4,
 "nbformat_minor": 2
}
